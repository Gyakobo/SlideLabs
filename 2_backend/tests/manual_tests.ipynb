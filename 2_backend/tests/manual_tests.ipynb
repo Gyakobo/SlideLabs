{
 "cells": [
  {
   "cell_type": "code",
   "execution_count": 36,
   "metadata": {},
   "outputs": [],
   "source": [
    "import requests\n",
    "import base64\n",
    "import json\n",
    "import time\n",
    "\n",
    "import pprint\n",
    "pp = pprint.PrettyPrinter()"
   ]
  },
  {
   "cell_type": "code",
   "execution_count": 37,
   "metadata": {},
   "outputs": [],
   "source": [
    "# base_url = 'https://nut-nut.ru/backend'\n",
    "base_url = 'http://127.0.0.1:2021/backend'"
   ]
  },
  {
   "cell_type": "markdown",
   "metadata": {},
   "source": [
    "# Project"
   ]
  },
  {
   "cell_type": "markdown",
   "metadata": {},
   "source": [
    "## Create project"
   ]
  },
  {
   "cell_type": "code",
   "execution_count": 42,
   "metadata": {},
   "outputs": [
    {
     "name": "stdout",
     "output_type": "stream",
     "text": [
      "0.0033478736877441406\n",
      "{'success': ''}\n"
     ]
    }
   ],
   "source": [
    "data_json = {\n",
    "    'project_id':'project1',\n",
    "    'title':'My project',\n",
    "}\n",
    "\n",
    "st = time.time()\n",
    "r = requests.post(base_url + '/create_project', json=data_json)\n",
    "et = time.time()\n",
    "print(et-st)\n",
    "try:\n",
    "    pp.pprint(json.loads(r.content))\n",
    "except:\n",
    "    print(r.content)"
   ]
  },
  {
   "cell_type": "markdown",
   "metadata": {},
   "source": [
    "## Get projects"
   ]
  },
  {
   "cell_type": "code",
   "execution_count": 76,
   "metadata": {},
   "outputs": [
    {
     "name": "stdout",
     "output_type": "stream",
     "text": [
      "0.003478527069091797\n",
      "{'projects': [{'project_id': 'project1',\n",
      "               'slide_ids': ['60eb6f759efccff1550a8190',\n",
      "                             '60eb6fdb1f830b07397878eb'],\n",
      "               'title': 'My super project'}]}\n"
     ]
    }
   ],
   "source": [
    "data_json = {\n",
    "}\n",
    "\n",
    "st = time.time()\n",
    "r = requests.post(base_url + '/get_projects', json=data_json)\n",
    "et = time.time()\n",
    "print(et-st)\n",
    "try:\n",
    "    pp.pprint(json.loads(r.content))\n",
    "except:\n",
    "    print(r.content)"
   ]
  },
  {
   "cell_type": "markdown",
   "metadata": {},
   "source": [
    "## Update project"
   ]
  },
  {
   "cell_type": "code",
   "execution_count": 44,
   "metadata": {},
   "outputs": [
    {
     "name": "stdout",
     "output_type": "stream",
     "text": [
      "0.0030062198638916016\n",
      "{'success': ''}\n"
     ]
    }
   ],
   "source": [
    "data_json = {\n",
    "    'project_id':'project1',\n",
    "    'changes':{\n",
    "        'title':'My super project',\n",
    "    }\n",
    "}\n",
    "\n",
    "st = time.time()\n",
    "r = requests.post(base_url + '/update_project', json=data_json)\n",
    "et = time.time()\n",
    "print(et-st)\n",
    "try:\n",
    "    pp.pprint(json.loads(r.content))\n",
    "except:\n",
    "    print(r.content)"
   ]
  },
  {
   "cell_type": "markdown",
   "metadata": {},
   "source": [
    "## Delete project"
   ]
  },
  {
   "cell_type": "code",
   "execution_count": 41,
   "metadata": {},
   "outputs": [
    {
     "name": "stdout",
     "output_type": "stream",
     "text": [
      "0.00308990478515625\n",
      "{'success': ''}\n"
     ]
    }
   ],
   "source": [
    "data_json = {\n",
    "    'project_id':'project1'\n",
    "}\n",
    "\n",
    "st = time.time()\n",
    "r = requests.post(base_url + '/delete_project', json=data_json)\n",
    "et = time.time()\n",
    "print(et-st)\n",
    "try:\n",
    "    pp.pprint(json.loads(r.content))\n",
    "except:\n",
    "    print(r.content)"
   ]
  },
  {
   "cell_type": "markdown",
   "metadata": {},
   "source": [
    "# Slide"
   ]
  },
  {
   "cell_type": "markdown",
   "metadata": {},
   "source": [
    "## Create slide"
   ]
  },
  {
   "cell_type": "code",
   "execution_count": 49,
   "metadata": {},
   "outputs": [
    {
     "name": "stdout",
     "output_type": "stream",
     "text": [
      "0.0040624141693115234\n",
      "{'slide_id': '60eb70331f830b07397878ec', 'success': ''}\n"
     ]
    }
   ],
   "source": [
    "data_json = {\n",
    "    'project_id':'project1',\n",
    "}\n",
    "\n",
    "st = time.time()\n",
    "r = requests.post(base_url + '/create_slide', json=data_json)\n",
    "et = time.time()\n",
    "print(et-st)\n",
    "try:\n",
    "    r_json = json.loads(r.content)\n",
    "    pp.pprint(r_json)\n",
    "    slide_id = r_json['slide_id']\n",
    "except:\n",
    "    print(r.content)"
   ]
  },
  {
   "cell_type": "code",
   "execution_count": 54,
   "metadata": {},
   "outputs": [
    {
     "data": {
      "text/plain": [
       "'60eb70331f830b07397878ec'"
      ]
     },
     "execution_count": 54,
     "metadata": {},
     "output_type": "execute_result"
    }
   ],
   "source": [
    "slide_id"
   ]
  },
  {
   "cell_type": "markdown",
   "metadata": {},
   "source": [
    "## Get slides"
   ]
  },
  {
   "cell_type": "code",
   "execution_count": 75,
   "metadata": {},
   "outputs": [
    {
     "name": "stdout",
     "output_type": "stream",
     "text": [
      "0.003551006317138672\n",
      "{'slides': []}\n"
     ]
    }
   ],
   "source": [
    "data_json = {\n",
    "    'slide_ids':[\n",
    "        slide_id\n",
    "    ],\n",
    "}\n",
    "\n",
    "st = time.time()\n",
    "r = requests.post(base_url + '/get_slides', json=data_json)\n",
    "et = time.time()\n",
    "print(et-st)\n",
    "try:\n",
    "    pp.pprint(json.loads(r.content))\n",
    "except:\n",
    "    print(r.content)"
   ]
  },
  {
   "cell_type": "markdown",
   "metadata": {},
   "source": [
    "## Update slide"
   ]
  },
  {
   "cell_type": "code",
   "execution_count": 67,
   "metadata": {},
   "outputs": [
    {
     "name": "stdout",
     "output_type": "stream",
     "text": [
      "0.00455164909362793\n",
      "{'success': ''}\n"
     ]
    }
   ],
   "source": [
    "data_json = {\n",
    "    'slide_id': slide_id,\n",
    "    'changes': {\n",
    "        'components_tree': {'hello': 'world'},\n",
    "    }\n",
    "}\n",
    "\n",
    "st = time.time()\n",
    "r = requests.post(base_url + '/update_slide', json=data_json)\n",
    "et = time.time()\n",
    "print(et-st)\n",
    "try:\n",
    "    pp.pprint(json.loads(r.content))\n",
    "except:\n",
    "    print(r.content)"
   ]
  },
  {
   "cell_type": "markdown",
   "metadata": {},
   "source": [
    "## Delete slide"
   ]
  },
  {
   "cell_type": "code",
   "execution_count": 74,
   "metadata": {},
   "outputs": [
    {
     "name": "stdout",
     "output_type": "stream",
     "text": [
      "0.0036725997924804688\n",
      "{'error': 'No such slide in project!'}\n"
     ]
    }
   ],
   "source": [
    "data_json = {\n",
    "    'project_id': 'project1',\n",
    "    'slide_id': slide_id,\n",
    "}\n",
    "\n",
    "st = time.time()\n",
    "r = requests.post(base_url + '/delete_slide', json=data_json)\n",
    "et = time.time()\n",
    "print(et-st)\n",
    "try:\n",
    "    pp.pprint(json.loads(r.content))\n",
    "except:\n",
    "    print(r.content)"
   ]
  },
  {
   "cell_type": "code",
   "execution_count": null,
   "metadata": {},
   "outputs": [],
   "source": []
  },
  {
   "cell_type": "code",
   "execution_count": null,
   "metadata": {},
   "outputs": [],
   "source": []
  },
  {
   "cell_type": "code",
   "execution_count": null,
   "metadata": {},
   "outputs": [],
   "source": []
  },
  {
   "cell_type": "code",
   "execution_count": null,
   "metadata": {},
   "outputs": [],
   "source": []
  }
 ],
 "metadata": {
  "kernelspec": {
   "display_name": "Python 3",
   "language": "python",
   "name": "python3"
  },
  "language_info": {
   "codemirror_mode": {
    "name": "ipython",
    "version": 3
   },
   "file_extension": ".py",
   "mimetype": "text/x-python",
   "name": "python",
   "nbconvert_exporter": "python",
   "pygments_lexer": "ipython3",
   "version": "3.8.5"
  }
 },
 "nbformat": 4,
 "nbformat_minor": 4
}
