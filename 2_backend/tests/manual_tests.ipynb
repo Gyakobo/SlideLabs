{
 "cells": [
  {
   "cell_type": "code",
   "execution_count": 1,
   "metadata": {},
   "outputs": [],
   "source": [
    "import requests\n",
    "import base64\n",
    "import json\n",
    "import time\n",
    "\n",
    "import pprint\n",
    "pp = pprint.PrettyPrinter()"
   ]
  },
  {
   "cell_type": "code",
   "execution_count": 2,
   "metadata": {},
   "outputs": [],
   "source": [
    "# base_url = 'https://nut-nut.ru/backend'\n",
    "base_url = 'http://127.0.0.1:2021/backend'"
   ]
  },
  {
   "cell_type": "markdown",
   "metadata": {},
   "source": [
    "# Project"
   ]
  },
  {
   "cell_type": "markdown",
   "metadata": {},
   "source": [
    "## Create project"
   ]
  },
  {
   "cell_type": "code",
   "execution_count": 3,
   "metadata": {},
   "outputs": [
    {
     "name": "stdout",
     "output_type": "stream",
     "text": [
      "0.014834880828857422\n",
      "{'success': ''}\n"
     ]
    }
   ],
   "source": [
    "data_json = {\n",
    "    'project_id':'project1',\n",
    "    'title':'My project',\n",
    "}\n",
    "\n",
    "st = time.time()\n",
    "r = requests.post(base_url + '/create_project', json=data_json)\n",
    "et = time.time()\n",
    "print(et-st)\n",
    "try:\n",
    "    pp.pprint(json.loads(r.content))\n",
    "except:\n",
    "    print(r.content)"
   ]
  },
  {
   "cell_type": "markdown",
   "metadata": {},
   "source": [
    "## Get projects"
   ]
  },
  {
   "cell_type": "code",
   "execution_count": 7,
   "metadata": {},
   "outputs": [
    {
     "name": "stdout",
     "output_type": "stream",
     "text": [
      "0.0032958984375\n",
      "{'projects': [{'project_id': 'aaa',\n",
      "               'settings': {'aspect_ratio_wh': 1.7777777777777777},\n",
      "               'slide_ids': ['60f3eeeb8c000cdd91d8db44'],\n",
      "               'style': {'sl_header_font_size': 0.05},\n",
      "               'title': 'eee'}]}\n"
     ]
    }
   ],
   "source": [
    "data_json = {\n",
    "#     'project_ids':['project1', 'project11']\n",
    "}\n",
    "\n",
    "st = time.time()\n",
    "r = requests.post(base_url + '/get_projects', json=data_json)\n",
    "et = time.time()\n",
    "print(et-st)\n",
    "try:\n",
    "    pp.pprint(json.loads(r.content))\n",
    "except:\n",
    "    print(r.content)"
   ]
  },
  {
   "cell_type": "markdown",
   "metadata": {},
   "source": [
    "## Update project"
   ]
  },
  {
   "cell_type": "code",
   "execution_count": 5,
   "metadata": {},
   "outputs": [
    {
     "name": "stdout",
     "output_type": "stream",
     "text": [
      "0.005167245864868164\n",
      "{'success': ''}\n"
     ]
    }
   ],
   "source": [
    "data_json = {\n",
    "    'project_id':'project1',\n",
    "    'changes':{\n",
    "        'title':'My super project',\n",
    "    },\n",
    "#     'assert_changed':''\n",
    "}\n",
    "\n",
    "st = time.time()\n",
    "r = requests.post(base_url + '/update_project', json=data_json)\n",
    "et = time.time()\n",
    "print(et-st)\n",
    "try:\n",
    "    pp.pprint(json.loads(r.content))\n",
    "except:\n",
    "    print(r.content)"
   ]
  },
  {
   "cell_type": "markdown",
   "metadata": {},
   "source": [
    "## Delete project"
   ]
  },
  {
   "cell_type": "code",
   "execution_count": 6,
   "metadata": {},
   "outputs": [
    {
     "name": "stdout",
     "output_type": "stream",
     "text": [
      "0.003948688507080078\n",
      "{'success': ''}\n"
     ]
    }
   ],
   "source": [
    "data_json = {\n",
    "    'project_id':'project1'\n",
    "}\n",
    "\n",
    "st = time.time()\n",
    "r = requests.post(base_url + '/delete_project', json=data_json)\n",
    "et = time.time()\n",
    "print(et-st)\n",
    "try:\n",
    "    pp.pprint(json.loads(r.content))\n",
    "except:\n",
    "    print(r.content)"
   ]
  },
  {
   "cell_type": "markdown",
   "metadata": {},
   "source": [
    "# Slide"
   ]
  },
  {
   "cell_type": "markdown",
   "metadata": {},
   "source": [
    "## Create slide"
   ]
  },
  {
   "cell_type": "code",
   "execution_count": null,
   "metadata": {},
   "outputs": [],
   "source": [
    "data_json = {\n",
    "    'project_id':'project1',\n",
    "}\n",
    "\n",
    "st = time.time()\n",
    "r = requests.post(base_url + '/create_slide', json=data_json)\n",
    "et = time.time()\n",
    "print(et-st)\n",
    "try:\n",
    "    r_json = json.loads(r.content)\n",
    "    pp.pprint(r_json)\n",
    "    slide_id = r_json['slide_id']\n",
    "except:\n",
    "    print(r.content)"
   ]
  },
  {
   "cell_type": "code",
   "execution_count": null,
   "metadata": {},
   "outputs": [],
   "source": [
    "slide_id"
   ]
  },
  {
   "cell_type": "markdown",
   "metadata": {},
   "source": [
    "## Get slides"
   ]
  },
  {
   "cell_type": "code",
   "execution_count": 9,
   "metadata": {},
   "outputs": [
    {
     "name": "stdout",
     "output_type": "stream",
     "text": [
      "0.0032720565795898438\n",
      "{'slides': [{'_id': '60f3eeeb8c000cdd91d8db44',\n",
      "             'components_tree': {'children': [{'id': 'itemundefined',\n",
      "                                               'is_folder': False,\n",
      "                                               'params': {'drag_resizer': {'width': 0.5,\n",
      "                                                                           'x': 0.22017795204343235,\n",
      "                                                                           'y': 0.208113406725984},\n",
      "                                                          'text': {'font_size': 1,\n",
      "                                                                   'letter_spacing': 0,\n",
      "                                                                   'line_height': 1,\n",
      "                                                                   'text_align': 'left',\n",
      "                                                                   'value': 'Header '\n",
      "                                                                            'dddd'}},\n",
      "                                               'type': 'sl_header'}],\n",
      "                                 'id': 'root_container',\n",
      "                                 'is_folder': True,\n",
      "                                 'params': None,\n",
      "                                 'type': 'sl_container'}}]}\n"
     ]
    }
   ],
   "source": [
    "data_json = {\n",
    "    'slide_ids':[\n",
    "#         slide_id, \n",
    "        '60f3eeeb8c000cdd91d8db44'\n",
    "    ],\n",
    "}\n",
    "\n",
    "st = time.time()\n",
    "r = requests.post(base_url + '/get_slides', json=data_json)\n",
    "et = time.time()\n",
    "print(et-st)\n",
    "try:\n",
    "    pp.pprint(json.loads(r.content))\n",
    "except:\n",
    "    print(r.content)"
   ]
  },
  {
   "cell_type": "code",
   "execution_count": 20,
   "metadata": {},
   "outputs": [
    {
     "data": {
      "text/plain": [
       "{'value': 'Header dddd',\n",
       " 'font_size': 1,\n",
       " 'line_height': 1,\n",
       " 'letter_spacing': 0,\n",
       " 'text_align': 'left'}"
      ]
     },
     "execution_count": 20,
     "metadata": {},
     "output_type": "execute_result"
    }
   ],
   "source": [
    "json.loads(r.content)['slides'][0]['components_tree']['children'][0]['params']['text']"
   ]
  },
  {
   "cell_type": "code",
   "execution_count": null,
   "metadata": {},
   "outputs": [],
   "source": []
  },
  {
   "cell_type": "markdown",
   "metadata": {},
   "source": [
    "## Update slide"
   ]
  },
  {
   "cell_type": "code",
   "execution_count": 26,
   "metadata": {},
   "outputs": [
    {
     "name": "stdout",
     "output_type": "stream",
     "text": [
      "0.0031270980834960938\n",
      "{'success': ''}\n"
     ]
    }
   ],
   "source": [
    "data_json = {\n",
    "#     'slide_id': slide_id,\n",
    "    'slide_id': '60ef7b857b98fd8433e7b0cf',\n",
    "    'changes': {\n",
    "#         'components_tree': {'hello': 'world'},\n",
    "        'components_tree': None,\n",
    "    },\n",
    "#     'assert_changed':''\n",
    "}\n",
    "\n",
    "st = time.time()\n",
    "r = requests.post(base_url + '/update_slide', json=data_json)\n",
    "et = time.time()\n",
    "print(et-st)\n",
    "try:\n",
    "    pp.pprint(json.loads(r.content))\n",
    "except:\n",
    "    print(r.content)"
   ]
  },
  {
   "cell_type": "markdown",
   "metadata": {},
   "source": [
    "## Delete slide"
   ]
  },
  {
   "cell_type": "code",
   "execution_count": null,
   "metadata": {},
   "outputs": [],
   "source": [
    "data_json = {\n",
    "    'project_id': 'project1',\n",
    "    'slide_id': slide_id,\n",
    "}\n",
    "\n",
    "st = time.time()\n",
    "r = requests.post(base_url + '/delete_slide', json=data_json)\n",
    "et = time.time()\n",
    "print(et-st)\n",
    "try:\n",
    "    pp.pprint(json.loads(r.content))\n",
    "except:\n",
    "    print(r.content)"
   ]
  },
  {
   "cell_type": "code",
   "execution_count": null,
   "metadata": {},
   "outputs": [],
   "source": []
  },
  {
   "cell_type": "code",
   "execution_count": null,
   "metadata": {},
   "outputs": [],
   "source": []
  },
  {
   "cell_type": "code",
   "execution_count": null,
   "metadata": {},
   "outputs": [],
   "source": [
    "import pymongo\n",
    "from pymongo import MongoClient"
   ]
  },
  {
   "cell_type": "code",
   "execution_count": null,
   "metadata": {},
   "outputs": [],
   "source": [
    "mongo_client = MongoClient('localhost', 27017)\n",
    "db = mongo_client.slidelab"
   ]
  },
  {
   "cell_type": "code",
   "execution_count": null,
   "metadata": {},
   "outputs": [],
   "source": [
    "help(db.projects.update_one)"
   ]
  },
  {
   "cell_type": "code",
   "execution_count": null,
   "metadata": {},
   "outputs": [],
   "source": [
    "help(pymongo.results.UpdateResult)"
   ]
  },
  {
   "cell_type": "code",
   "execution_count": null,
   "metadata": {},
   "outputs": [],
   "source": []
  }
 ],
 "metadata": {
  "kernelspec": {
   "display_name": "Python 3",
   "language": "python",
   "name": "python3"
  },
  "language_info": {
   "codemirror_mode": {
    "name": "ipython",
    "version": 3
   },
   "file_extension": ".py",
   "mimetype": "text/x-python",
   "name": "python",
   "nbconvert_exporter": "python",
   "pygments_lexer": "ipython3",
   "version": "3.8.5"
  }
 },
 "nbformat": 4,
 "nbformat_minor": 4
}
