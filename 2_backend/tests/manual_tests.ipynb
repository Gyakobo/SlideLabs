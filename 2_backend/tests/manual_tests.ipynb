{
 "cells": [
  {
   "cell_type": "code",
   "execution_count": null,
   "metadata": {},
   "outputs": [],
   "source": [
    "import requests\n",
    "import base64\n",
    "import json\n",
    "import time\n",
    "\n",
    "import pprint\n",
    "pp = pprint.PrettyPrinter()"
   ]
  },
  {
   "cell_type": "code",
   "execution_count": null,
   "metadata": {},
   "outputs": [],
   "source": [
    "# base_url = 'https://nut-nut.ru/backend'\n",
    "base_url = 'http://127.0.0.1:2021/backend'"
   ]
  },
  {
   "cell_type": "markdown",
   "metadata": {},
   "source": [
    "# Project"
   ]
  },
  {
   "cell_type": "markdown",
   "metadata": {},
   "source": [
    "## Create project"
   ]
  },
  {
   "cell_type": "code",
   "execution_count": null,
   "metadata": {},
   "outputs": [],
   "source": [
    "data_json = {\n",
    "    'project_id':'project1',\n",
    "    'title':'My project',\n",
    "}\n",
    "\n",
    "st = time.time()\n",
    "r = requests.post(base_url + '/create_project', json=data_json)\n",
    "et = time.time()\n",
    "print(et-st)\n",
    "try:\n",
    "    pp.pprint(json.loads(r.content))\n",
    "except:\n",
    "    print(r.content)"
   ]
  },
  {
   "cell_type": "markdown",
   "metadata": {},
   "source": [
    "## Get projects"
   ]
  },
  {
   "cell_type": "code",
   "execution_count": null,
   "metadata": {},
   "outputs": [],
   "source": [
    "data_json = {\n",
    "#     'project_ids':['project1', 'project11']\n",
    "}\n",
    "\n",
    "st = time.time()\n",
    "r = requests.post(base_url + '/get_projects', json=data_json)\n",
    "et = time.time()\n",
    "print(et-st)\n",
    "try:\n",
    "    pp.pprint(json.loads(r.content))\n",
    "except:\n",
    "    print(r.content)"
   ]
  },
  {
   "cell_type": "markdown",
   "metadata": {},
   "source": [
    "## Update project"
   ]
  },
  {
   "cell_type": "code",
   "execution_count": null,
   "metadata": {},
   "outputs": [],
   "source": [
    "data_json = {\n",
    "    'project_id':'project1',\n",
    "    'changes':{\n",
    "        'title':'My super project',\n",
    "    },\n",
    "#     'assert_changed':''\n",
    "}\n",
    "\n",
    "st = time.time()\n",
    "r = requests.post(base_url + '/update_project', json=data_json)\n",
    "et = time.time()\n",
    "print(et-st)\n",
    "try:\n",
    "    pp.pprint(json.loads(r.content))\n",
    "except:\n",
    "    print(r.content)"
   ]
  },
  {
   "cell_type": "markdown",
   "metadata": {},
   "source": [
    "## Delete project"
   ]
  },
  {
   "cell_type": "code",
   "execution_count": null,
   "metadata": {},
   "outputs": [],
   "source": [
    "data_json = {\n",
    "    'project_id':'project1'\n",
    "}\n",
    "\n",
    "st = time.time()\n",
    "r = requests.post(base_url + '/delete_project', json=data_json)\n",
    "et = time.time()\n",
    "print(et-st)\n",
    "try:\n",
    "    pp.pprint(json.loads(r.content))\n",
    "except:\n",
    "    print(r.content)"
   ]
  },
  {
   "cell_type": "markdown",
   "metadata": {},
   "source": [
    "# Slide"
   ]
  },
  {
   "cell_type": "markdown",
   "metadata": {},
   "source": [
    "## Create slide"
   ]
  },
  {
   "cell_type": "code",
   "execution_count": null,
   "metadata": {},
   "outputs": [],
   "source": [
    "data_json = {\n",
    "    'project_id':'project1',\n",
    "}\n",
    "\n",
    "st = time.time()\n",
    "r = requests.post(base_url + '/create_slide', json=data_json)\n",
    "et = time.time()\n",
    "print(et-st)\n",
    "try:\n",
    "    r_json = json.loads(r.content)\n",
    "    pp.pprint(r_json)\n",
    "    slide_id = r_json['slide_id']\n",
    "except:\n",
    "    print(r.content)"
   ]
  },
  {
   "cell_type": "code",
   "execution_count": null,
   "metadata": {},
   "outputs": [],
   "source": [
    "slide_id"
   ]
  },
  {
   "cell_type": "markdown",
   "metadata": {},
   "source": [
    "## Get slides"
   ]
  },
  {
   "cell_type": "code",
   "execution_count": null,
   "metadata": {},
   "outputs": [],
   "source": [
    "data_json = {\n",
    "    'slide_ids':[\n",
    "#         slide_id, \n",
    "        '60f3eeeb8c000cdd91d8db44'\n",
    "    ],\n",
    "}\n",
    "\n",
    "st = time.time()\n",
    "r = requests.post(base_url + '/get_slides', json=data_json)\n",
    "et = time.time()\n",
    "print(et-st)\n",
    "try:\n",
    "    pp.pprint(json.loads(r.content))\n",
    "except:\n",
    "    print(r.content)"
   ]
  },
  {
   "cell_type": "code",
   "execution_count": null,
   "metadata": {},
   "outputs": [],
   "source": [
    "json.loads(r.content)['slides'][0]['components_tree']['children'][0]['params']['text']"
   ]
  },
  {
   "cell_type": "code",
   "execution_count": null,
   "metadata": {},
   "outputs": [],
   "source": []
  },
  {
   "cell_type": "markdown",
   "metadata": {},
   "source": [
    "## Update slide"
   ]
  },
  {
   "cell_type": "code",
   "execution_count": null,
   "metadata": {},
   "outputs": [],
   "source": [
    "data_json = {\n",
    "#     'slide_id': slide_id,\n",
    "    'slide_id': '60ef7b857b98fd8433e7b0cf',\n",
    "    'changes': {\n",
    "#         'components_tree': {'hello': 'world'},\n",
    "        'components_tree': None,\n",
    "    },\n",
    "#     'assert_changed':''\n",
    "}\n",
    "\n",
    "st = time.time()\n",
    "r = requests.post(base_url + '/update_slide', json=data_json)\n",
    "et = time.time()\n",
    "print(et-st)\n",
    "try:\n",
    "    pp.pprint(json.loads(r.content))\n",
    "except:\n",
    "    print(r.content)"
   ]
  },
  {
   "cell_type": "markdown",
   "metadata": {},
   "source": [
    "## Delete slide"
   ]
  },
  {
   "cell_type": "code",
   "execution_count": null,
   "metadata": {},
   "outputs": [],
   "source": [
    "data_json = {\n",
    "    'project_id': 'project1',\n",
    "    'slide_id': slide_id,\n",
    "}\n",
    "\n",
    "st = time.time()\n",
    "r = requests.post(base_url + '/delete_slide', json=data_json)\n",
    "et = time.time()\n",
    "print(et-st)\n",
    "try:\n",
    "    pp.pprint(json.loads(r.content))\n",
    "except:\n",
    "    print(r.content)"
   ]
  },
  {
   "cell_type": "markdown",
   "metadata": {},
   "source": [
    "# Export"
   ]
  },
  {
   "cell_type": "markdown",
   "metadata": {},
   "source": [
    "## export_project_to_html"
   ]
  },
  {
   "cell_type": "code",
   "execution_count": null,
   "metadata": {},
   "outputs": [],
   "source": [
    "data_json = {\n",
    "    'project_id': 'aaa',\n",
    "}\n",
    "\n",
    "st = time.time()\n",
    "r = requests.post(base_url + '/export_project_to_html', json=data_json)\n",
    "et = time.time()\n",
    "print(et-st)\n",
    "try:\n",
    "    print(r.content)\n",
    "except:\n",
    "    print(r.content)"
   ]
  },
  {
   "cell_type": "code",
   "execution_count": null,
   "metadata": {},
   "outputs": [],
   "source": []
  },
  {
   "cell_type": "markdown",
   "metadata": {},
   "source": [
    "# Tests"
   ]
  },
  {
   "cell_type": "code",
   "execution_count": null,
   "metadata": {},
   "outputs": [],
   "source": [
    "import pymongo\n",
    "from pymongo import MongoClient"
   ]
  },
  {
   "cell_type": "code",
   "execution_count": null,
   "metadata": {},
   "outputs": [],
   "source": [
    "mongo_client = MongoClient('localhost', 27017)\n",
    "db = mongo_client.slidelab"
   ]
  },
  {
   "cell_type": "code",
   "execution_count": null,
   "metadata": {},
   "outputs": [],
   "source": [
    "help(db.projects.update_one)"
   ]
  },
  {
   "cell_type": "code",
   "execution_count": null,
   "metadata": {},
   "outputs": [],
   "source": [
    "help(pymongo.results.UpdateResult)"
   ]
  },
  {
   "cell_type": "code",
   "execution_count": null,
   "metadata": {},
   "outputs": [],
   "source": []
  }
 ],
 "metadata": {
  "kernelspec": {
   "display_name": "Python 3",
   "language": "python",
   "name": "python3"
  },
  "language_info": {
   "codemirror_mode": {
    "name": "ipython",
    "version": 3
   },
   "file_extension": ".py",
   "mimetype": "text/x-python",
   "name": "python",
   "nbconvert_exporter": "python",
   "pygments_lexer": "ipython3",
   "version": "3.8.5"
  }
 },
 "nbformat": 4,
 "nbformat_minor": 4
}
